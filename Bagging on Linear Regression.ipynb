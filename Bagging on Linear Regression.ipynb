{
 "cells": [
  {
   "cell_type": "code",
   "execution_count": 1,
   "metadata": {},
   "outputs": [],
   "source": [
    "from sklearn.ensemble import BaggingRegressor\n",
    "from sklearn.linear_model import LinearRegression\n",
    "from sklearn.model_selection import train_test_split\n",
    "import pandas as pd\n",
    "import os\n",
    "import matplotlib.pyplot as plt\n",
    "import seaborn\n",
    "import numpy as np\n",
    "from sklearn.metrics import mean_squared_error"
   ]
  },
  {
   "cell_type": "markdown",
   "metadata": {},
   "source": [
    "## Loading Data File"
   ]
  },
  {
   "cell_type": "code",
   "execution_count": 106,
   "metadata": {},
   "outputs": [],
   "source": [
    "kc_house = pd.read_csv(\"kc_house_data.csv\")"
   ]
  },
  {
   "cell_type": "code",
   "execution_count": 3,
   "metadata": {},
   "outputs": [
    {
     "data": {
      "text/html": [
       "<div>\n",
       "<style scoped>\n",
       "    .dataframe tbody tr th:only-of-type {\n",
       "        vertical-align: middle;\n",
       "    }\n",
       "\n",
       "    .dataframe tbody tr th {\n",
       "        vertical-align: top;\n",
       "    }\n",
       "\n",
       "    .dataframe thead th {\n",
       "        text-align: right;\n",
       "    }\n",
       "</style>\n",
       "<table border=\"1\" class=\"dataframe\">\n",
       "  <thead>\n",
       "    <tr style=\"text-align: right;\">\n",
       "      <th></th>\n",
       "      <th>id</th>\n",
       "      <th>date</th>\n",
       "      <th>price</th>\n",
       "      <th>bedrooms</th>\n",
       "      <th>bathrooms</th>\n",
       "      <th>sqft_living</th>\n",
       "      <th>sqft_lot</th>\n",
       "      <th>floors</th>\n",
       "      <th>waterfront</th>\n",
       "      <th>view</th>\n",
       "      <th>...</th>\n",
       "      <th>grade</th>\n",
       "      <th>sqft_above</th>\n",
       "      <th>sqft_basement</th>\n",
       "      <th>yr_built</th>\n",
       "      <th>yr_renovated</th>\n",
       "      <th>zipcode</th>\n",
       "      <th>lat</th>\n",
       "      <th>long</th>\n",
       "      <th>sqft_living15</th>\n",
       "      <th>sqft_lot15</th>\n",
       "    </tr>\n",
       "  </thead>\n",
       "  <tbody>\n",
       "    <tr>\n",
       "      <th>0</th>\n",
       "      <td>7129300520</td>\n",
       "      <td>20141013T000000</td>\n",
       "      <td>221900.0</td>\n",
       "      <td>3</td>\n",
       "      <td>1.00</td>\n",
       "      <td>1180</td>\n",
       "      <td>5650</td>\n",
       "      <td>1.0</td>\n",
       "      <td>0</td>\n",
       "      <td>0</td>\n",
       "      <td>...</td>\n",
       "      <td>7</td>\n",
       "      <td>1180.0</td>\n",
       "      <td>0</td>\n",
       "      <td>1955</td>\n",
       "      <td>0</td>\n",
       "      <td>98178</td>\n",
       "      <td>47.5112</td>\n",
       "      <td>-122.257</td>\n",
       "      <td>1340</td>\n",
       "      <td>5650</td>\n",
       "    </tr>\n",
       "    <tr>\n",
       "      <th>1</th>\n",
       "      <td>6414100192</td>\n",
       "      <td>20141209T000000</td>\n",
       "      <td>538000.0</td>\n",
       "      <td>3</td>\n",
       "      <td>2.25</td>\n",
       "      <td>2570</td>\n",
       "      <td>7242</td>\n",
       "      <td>2.0</td>\n",
       "      <td>0</td>\n",
       "      <td>0</td>\n",
       "      <td>...</td>\n",
       "      <td>7</td>\n",
       "      <td>2170.0</td>\n",
       "      <td>400</td>\n",
       "      <td>1951</td>\n",
       "      <td>1991</td>\n",
       "      <td>98125</td>\n",
       "      <td>47.7210</td>\n",
       "      <td>-122.319</td>\n",
       "      <td>1690</td>\n",
       "      <td>7639</td>\n",
       "    </tr>\n",
       "    <tr>\n",
       "      <th>2</th>\n",
       "      <td>5631500400</td>\n",
       "      <td>20150225T000000</td>\n",
       "      <td>180000.0</td>\n",
       "      <td>2</td>\n",
       "      <td>1.00</td>\n",
       "      <td>770</td>\n",
       "      <td>10000</td>\n",
       "      <td>1.0</td>\n",
       "      <td>0</td>\n",
       "      <td>0</td>\n",
       "      <td>...</td>\n",
       "      <td>6</td>\n",
       "      <td>770.0</td>\n",
       "      <td>0</td>\n",
       "      <td>1933</td>\n",
       "      <td>0</td>\n",
       "      <td>98028</td>\n",
       "      <td>47.7379</td>\n",
       "      <td>-122.233</td>\n",
       "      <td>2720</td>\n",
       "      <td>8062</td>\n",
       "    </tr>\n",
       "    <tr>\n",
       "      <th>3</th>\n",
       "      <td>2487200875</td>\n",
       "      <td>20141209T000000</td>\n",
       "      <td>604000.0</td>\n",
       "      <td>4</td>\n",
       "      <td>3.00</td>\n",
       "      <td>1960</td>\n",
       "      <td>5000</td>\n",
       "      <td>1.0</td>\n",
       "      <td>0</td>\n",
       "      <td>0</td>\n",
       "      <td>...</td>\n",
       "      <td>7</td>\n",
       "      <td>1050.0</td>\n",
       "      <td>910</td>\n",
       "      <td>1965</td>\n",
       "      <td>0</td>\n",
       "      <td>98136</td>\n",
       "      <td>47.5208</td>\n",
       "      <td>-122.393</td>\n",
       "      <td>1360</td>\n",
       "      <td>5000</td>\n",
       "    </tr>\n",
       "    <tr>\n",
       "      <th>4</th>\n",
       "      <td>1954400510</td>\n",
       "      <td>20150218T000000</td>\n",
       "      <td>510000.0</td>\n",
       "      <td>3</td>\n",
       "      <td>2.00</td>\n",
       "      <td>1680</td>\n",
       "      <td>8080</td>\n",
       "      <td>1.0</td>\n",
       "      <td>0</td>\n",
       "      <td>0</td>\n",
       "      <td>...</td>\n",
       "      <td>8</td>\n",
       "      <td>1680.0</td>\n",
       "      <td>0</td>\n",
       "      <td>1987</td>\n",
       "      <td>0</td>\n",
       "      <td>98074</td>\n",
       "      <td>47.6168</td>\n",
       "      <td>-122.045</td>\n",
       "      <td>1800</td>\n",
       "      <td>7503</td>\n",
       "    </tr>\n",
       "  </tbody>\n",
       "</table>\n",
       "<p>5 rows × 21 columns</p>\n",
       "</div>"
      ],
      "text/plain": [
       "           id             date     price  bedrooms  bathrooms  sqft_living  \\\n",
       "0  7129300520  20141013T000000  221900.0         3       1.00         1180   \n",
       "1  6414100192  20141209T000000  538000.0         3       2.25         2570   \n",
       "2  5631500400  20150225T000000  180000.0         2       1.00          770   \n",
       "3  2487200875  20141209T000000  604000.0         4       3.00         1960   \n",
       "4  1954400510  20150218T000000  510000.0         3       2.00         1680   \n",
       "\n",
       "   sqft_lot  floors  waterfront  view  ...  grade  sqft_above  sqft_basement  \\\n",
       "0      5650     1.0           0     0  ...      7      1180.0              0   \n",
       "1      7242     2.0           0     0  ...      7      2170.0            400   \n",
       "2     10000     1.0           0     0  ...      6       770.0              0   \n",
       "3      5000     1.0           0     0  ...      7      1050.0            910   \n",
       "4      8080     1.0           0     0  ...      8      1680.0              0   \n",
       "\n",
       "   yr_built  yr_renovated  zipcode      lat     long  sqft_living15  \\\n",
       "0      1955             0    98178  47.5112 -122.257           1340   \n",
       "1      1951          1991    98125  47.7210 -122.319           1690   \n",
       "2      1933             0    98028  47.7379 -122.233           2720   \n",
       "3      1965             0    98136  47.5208 -122.393           1360   \n",
       "4      1987             0    98074  47.6168 -122.045           1800   \n",
       "\n",
       "   sqft_lot15  \n",
       "0        5650  \n",
       "1        7639  \n",
       "2        8062  \n",
       "3        5000  \n",
       "4        7503  \n",
       "\n",
       "[5 rows x 21 columns]"
      ]
     },
     "execution_count": 3,
     "metadata": {},
     "output_type": "execute_result"
    }
   ],
   "source": [
    "kc_house.head()"
   ]
  },
  {
   "cell_type": "code",
   "execution_count": 4,
   "metadata": {},
   "outputs": [
    {
     "data": {
      "text/html": [
       "<div>\n",
       "<style scoped>\n",
       "    .dataframe tbody tr th:only-of-type {\n",
       "        vertical-align: middle;\n",
       "    }\n",
       "\n",
       "    .dataframe tbody tr th {\n",
       "        vertical-align: top;\n",
       "    }\n",
       "\n",
       "    .dataframe thead th {\n",
       "        text-align: right;\n",
       "    }\n",
       "</style>\n",
       "<table border=\"1\" class=\"dataframe\">\n",
       "  <thead>\n",
       "    <tr style=\"text-align: right;\">\n",
       "      <th></th>\n",
       "      <th>id</th>\n",
       "      <th>price</th>\n",
       "      <th>bedrooms</th>\n",
       "      <th>bathrooms</th>\n",
       "      <th>sqft_living</th>\n",
       "      <th>sqft_lot</th>\n",
       "      <th>floors</th>\n",
       "      <th>waterfront</th>\n",
       "      <th>view</th>\n",
       "      <th>condition</th>\n",
       "      <th>grade</th>\n",
       "      <th>sqft_above</th>\n",
       "      <th>sqft_basement</th>\n",
       "      <th>yr_built</th>\n",
       "      <th>yr_renovated</th>\n",
       "      <th>zipcode</th>\n",
       "      <th>lat</th>\n",
       "      <th>long</th>\n",
       "      <th>sqft_living15</th>\n",
       "      <th>sqft_lot15</th>\n",
       "    </tr>\n",
       "  </thead>\n",
       "  <tbody>\n",
       "    <tr>\n",
       "      <th>count</th>\n",
       "      <td>2.161300e+04</td>\n",
       "      <td>2.161300e+04</td>\n",
       "      <td>21613.000000</td>\n",
       "      <td>21613.000000</td>\n",
       "      <td>21613.000000</td>\n",
       "      <td>2.161300e+04</td>\n",
       "      <td>21613.000000</td>\n",
       "      <td>21613.000000</td>\n",
       "      <td>21613.000000</td>\n",
       "      <td>21613.000000</td>\n",
       "      <td>21613.000000</td>\n",
       "      <td>21611.000000</td>\n",
       "      <td>21613.000000</td>\n",
       "      <td>21613.000000</td>\n",
       "      <td>21613.000000</td>\n",
       "      <td>21613.000000</td>\n",
       "      <td>21613.000000</td>\n",
       "      <td>21613.000000</td>\n",
       "      <td>21613.000000</td>\n",
       "      <td>21613.000000</td>\n",
       "    </tr>\n",
       "    <tr>\n",
       "      <th>mean</th>\n",
       "      <td>4.580302e+09</td>\n",
       "      <td>5.400881e+05</td>\n",
       "      <td>3.370842</td>\n",
       "      <td>2.114757</td>\n",
       "      <td>2079.899736</td>\n",
       "      <td>1.510697e+04</td>\n",
       "      <td>1.494309</td>\n",
       "      <td>0.007542</td>\n",
       "      <td>0.234303</td>\n",
       "      <td>3.409430</td>\n",
       "      <td>7.656873</td>\n",
       "      <td>1788.396095</td>\n",
       "      <td>291.509045</td>\n",
       "      <td>1971.005136</td>\n",
       "      <td>84.402258</td>\n",
       "      <td>98077.939805</td>\n",
       "      <td>47.560053</td>\n",
       "      <td>-122.213896</td>\n",
       "      <td>1986.552492</td>\n",
       "      <td>12768.455652</td>\n",
       "    </tr>\n",
       "    <tr>\n",
       "      <th>std</th>\n",
       "      <td>2.876566e+09</td>\n",
       "      <td>3.671272e+05</td>\n",
       "      <td>0.930062</td>\n",
       "      <td>0.770163</td>\n",
       "      <td>918.440897</td>\n",
       "      <td>4.142051e+04</td>\n",
       "      <td>0.539989</td>\n",
       "      <td>0.086517</td>\n",
       "      <td>0.766318</td>\n",
       "      <td>0.650743</td>\n",
       "      <td>1.175459</td>\n",
       "      <td>828.128162</td>\n",
       "      <td>442.575043</td>\n",
       "      <td>29.373411</td>\n",
       "      <td>401.679240</td>\n",
       "      <td>53.505026</td>\n",
       "      <td>0.138564</td>\n",
       "      <td>0.140828</td>\n",
       "      <td>685.391304</td>\n",
       "      <td>27304.179631</td>\n",
       "    </tr>\n",
       "    <tr>\n",
       "      <th>min</th>\n",
       "      <td>1.000102e+06</td>\n",
       "      <td>7.500000e+04</td>\n",
       "      <td>0.000000</td>\n",
       "      <td>0.000000</td>\n",
       "      <td>290.000000</td>\n",
       "      <td>5.200000e+02</td>\n",
       "      <td>1.000000</td>\n",
       "      <td>0.000000</td>\n",
       "      <td>0.000000</td>\n",
       "      <td>1.000000</td>\n",
       "      <td>1.000000</td>\n",
       "      <td>290.000000</td>\n",
       "      <td>0.000000</td>\n",
       "      <td>1900.000000</td>\n",
       "      <td>0.000000</td>\n",
       "      <td>98001.000000</td>\n",
       "      <td>47.155900</td>\n",
       "      <td>-122.519000</td>\n",
       "      <td>399.000000</td>\n",
       "      <td>651.000000</td>\n",
       "    </tr>\n",
       "    <tr>\n",
       "      <th>25%</th>\n",
       "      <td>2.123049e+09</td>\n",
       "      <td>3.219500e+05</td>\n",
       "      <td>3.000000</td>\n",
       "      <td>1.750000</td>\n",
       "      <td>1427.000000</td>\n",
       "      <td>5.040000e+03</td>\n",
       "      <td>1.000000</td>\n",
       "      <td>0.000000</td>\n",
       "      <td>0.000000</td>\n",
       "      <td>3.000000</td>\n",
       "      <td>7.000000</td>\n",
       "      <td>1190.000000</td>\n",
       "      <td>0.000000</td>\n",
       "      <td>1951.000000</td>\n",
       "      <td>0.000000</td>\n",
       "      <td>98033.000000</td>\n",
       "      <td>47.471000</td>\n",
       "      <td>-122.328000</td>\n",
       "      <td>1490.000000</td>\n",
       "      <td>5100.000000</td>\n",
       "    </tr>\n",
       "    <tr>\n",
       "      <th>50%</th>\n",
       "      <td>3.904930e+09</td>\n",
       "      <td>4.500000e+05</td>\n",
       "      <td>3.000000</td>\n",
       "      <td>2.250000</td>\n",
       "      <td>1910.000000</td>\n",
       "      <td>7.618000e+03</td>\n",
       "      <td>1.500000</td>\n",
       "      <td>0.000000</td>\n",
       "      <td>0.000000</td>\n",
       "      <td>3.000000</td>\n",
       "      <td>7.000000</td>\n",
       "      <td>1560.000000</td>\n",
       "      <td>0.000000</td>\n",
       "      <td>1975.000000</td>\n",
       "      <td>0.000000</td>\n",
       "      <td>98065.000000</td>\n",
       "      <td>47.571800</td>\n",
       "      <td>-122.230000</td>\n",
       "      <td>1840.000000</td>\n",
       "      <td>7620.000000</td>\n",
       "    </tr>\n",
       "    <tr>\n",
       "      <th>75%</th>\n",
       "      <td>7.308900e+09</td>\n",
       "      <td>6.450000e+05</td>\n",
       "      <td>4.000000</td>\n",
       "      <td>2.500000</td>\n",
       "      <td>2550.000000</td>\n",
       "      <td>1.068800e+04</td>\n",
       "      <td>2.000000</td>\n",
       "      <td>0.000000</td>\n",
       "      <td>0.000000</td>\n",
       "      <td>4.000000</td>\n",
       "      <td>8.000000</td>\n",
       "      <td>2210.000000</td>\n",
       "      <td>560.000000</td>\n",
       "      <td>1997.000000</td>\n",
       "      <td>0.000000</td>\n",
       "      <td>98118.000000</td>\n",
       "      <td>47.678000</td>\n",
       "      <td>-122.125000</td>\n",
       "      <td>2360.000000</td>\n",
       "      <td>10083.000000</td>\n",
       "    </tr>\n",
       "    <tr>\n",
       "      <th>max</th>\n",
       "      <td>9.900000e+09</td>\n",
       "      <td>7.700000e+06</td>\n",
       "      <td>33.000000</td>\n",
       "      <td>8.000000</td>\n",
       "      <td>13540.000000</td>\n",
       "      <td>1.651359e+06</td>\n",
       "      <td>3.500000</td>\n",
       "      <td>1.000000</td>\n",
       "      <td>4.000000</td>\n",
       "      <td>5.000000</td>\n",
       "      <td>13.000000</td>\n",
       "      <td>9410.000000</td>\n",
       "      <td>4820.000000</td>\n",
       "      <td>2015.000000</td>\n",
       "      <td>2015.000000</td>\n",
       "      <td>98199.000000</td>\n",
       "      <td>47.777600</td>\n",
       "      <td>-121.315000</td>\n",
       "      <td>6210.000000</td>\n",
       "      <td>871200.000000</td>\n",
       "    </tr>\n",
       "  </tbody>\n",
       "</table>\n",
       "</div>"
      ],
      "text/plain": [
       "                 id         price      bedrooms     bathrooms   sqft_living  \\\n",
       "count  2.161300e+04  2.161300e+04  21613.000000  21613.000000  21613.000000   \n",
       "mean   4.580302e+09  5.400881e+05      3.370842      2.114757   2079.899736   \n",
       "std    2.876566e+09  3.671272e+05      0.930062      0.770163    918.440897   \n",
       "min    1.000102e+06  7.500000e+04      0.000000      0.000000    290.000000   \n",
       "25%    2.123049e+09  3.219500e+05      3.000000      1.750000   1427.000000   \n",
       "50%    3.904930e+09  4.500000e+05      3.000000      2.250000   1910.000000   \n",
       "75%    7.308900e+09  6.450000e+05      4.000000      2.500000   2550.000000   \n",
       "max    9.900000e+09  7.700000e+06     33.000000      8.000000  13540.000000   \n",
       "\n",
       "           sqft_lot        floors    waterfront          view     condition  \\\n",
       "count  2.161300e+04  21613.000000  21613.000000  21613.000000  21613.000000   \n",
       "mean   1.510697e+04      1.494309      0.007542      0.234303      3.409430   \n",
       "std    4.142051e+04      0.539989      0.086517      0.766318      0.650743   \n",
       "min    5.200000e+02      1.000000      0.000000      0.000000      1.000000   \n",
       "25%    5.040000e+03      1.000000      0.000000      0.000000      3.000000   \n",
       "50%    7.618000e+03      1.500000      0.000000      0.000000      3.000000   \n",
       "75%    1.068800e+04      2.000000      0.000000      0.000000      4.000000   \n",
       "max    1.651359e+06      3.500000      1.000000      4.000000      5.000000   \n",
       "\n",
       "              grade    sqft_above  sqft_basement      yr_built  yr_renovated  \\\n",
       "count  21613.000000  21611.000000   21613.000000  21613.000000  21613.000000   \n",
       "mean       7.656873   1788.396095     291.509045   1971.005136     84.402258   \n",
       "std        1.175459    828.128162     442.575043     29.373411    401.679240   \n",
       "min        1.000000    290.000000       0.000000   1900.000000      0.000000   \n",
       "25%        7.000000   1190.000000       0.000000   1951.000000      0.000000   \n",
       "50%        7.000000   1560.000000       0.000000   1975.000000      0.000000   \n",
       "75%        8.000000   2210.000000     560.000000   1997.000000      0.000000   \n",
       "max       13.000000   9410.000000    4820.000000   2015.000000   2015.000000   \n",
       "\n",
       "            zipcode           lat          long  sqft_living15     sqft_lot15  \n",
       "count  21613.000000  21613.000000  21613.000000   21613.000000   21613.000000  \n",
       "mean   98077.939805     47.560053   -122.213896    1986.552492   12768.455652  \n",
       "std       53.505026      0.138564      0.140828     685.391304   27304.179631  \n",
       "min    98001.000000     47.155900   -122.519000     399.000000     651.000000  \n",
       "25%    98033.000000     47.471000   -122.328000    1490.000000    5100.000000  \n",
       "50%    98065.000000     47.571800   -122.230000    1840.000000    7620.000000  \n",
       "75%    98118.000000     47.678000   -122.125000    2360.000000   10083.000000  \n",
       "max    98199.000000     47.777600   -121.315000    6210.000000  871200.000000  "
      ]
     },
     "execution_count": 4,
     "metadata": {},
     "output_type": "execute_result"
    }
   ],
   "source": [
    "kc_house.describe()"
   ]
  },
  {
   "cell_type": "code",
   "execution_count": 5,
   "metadata": {
    "tags": []
   },
   "outputs": [
    {
     "name": "stdout",
     "output_type": "stream",
     "text": [
      "<class 'pandas.core.frame.DataFrame'>\n",
      "RangeIndex: 21613 entries, 0 to 21612\n",
      "Data columns (total 21 columns):\n",
      " #   Column         Non-Null Count  Dtype  \n",
      "---  ------         --------------  -----  \n",
      " 0   id             21613 non-null  int64  \n",
      " 1   date           21613 non-null  object \n",
      " 2   price          21613 non-null  float64\n",
      " 3   bedrooms       21613 non-null  int64  \n",
      " 4   bathrooms      21613 non-null  float64\n",
      " 5   sqft_living    21613 non-null  int64  \n",
      " 6   sqft_lot       21613 non-null  int64  \n",
      " 7   floors         21613 non-null  float64\n",
      " 8   waterfront     21613 non-null  int64  \n",
      " 9   view           21613 non-null  int64  \n",
      " 10  condition      21613 non-null  int64  \n",
      " 11  grade          21613 non-null  int64  \n",
      " 12  sqft_above     21611 non-null  float64\n",
      " 13  sqft_basement  21613 non-null  int64  \n",
      " 14  yr_built       21613 non-null  int64  \n",
      " 15  yr_renovated   21613 non-null  int64  \n",
      " 16  zipcode        21613 non-null  int64  \n",
      " 17  lat            21613 non-null  float64\n",
      " 18  long           21613 non-null  float64\n",
      " 19  sqft_living15  21613 non-null  int64  \n",
      " 20  sqft_lot15     21613 non-null  int64  \n",
      "dtypes: float64(6), int64(14), object(1)\n",
      "memory usage: 3.5+ MB\n"
     ]
    }
   ],
   "source": [
    "kc_house.info()"
   ]
  },
  {
   "cell_type": "markdown",
   "metadata": {},
   "source": [
    "## Bagging class"
   ]
  },
  {
   "cell_type": "code",
   "execution_count": 6,
   "metadata": {},
   "outputs": [],
   "source": [
    "class BaggedRegression:\n",
    "    def __init__(self, n_estimators = 10, random_state = None):\n",
    "        self.n_estimators = n_estimators\n",
    "        self.samples = list()\n",
    "        self.model_list = list()\n",
    "        self.prediction_df = None\n",
    "        self.random_state = random_state\n",
    "\n",
    "    # Create bootstrap sample\n",
    "    def __create_boot_samples(self, X_train):\n",
    "        \n",
    "        if self.random_state is not None:\n",
    "            self.random_state = range(self.random_state, self.random_state + self.n_estimators)\n",
    "        # Loop to get the number of samples defined by the user.\n",
    "        for i in range(self.n_estimators):\n",
    "            if self.random_state is None:\n",
    "                boot_sample = X_train.sample(frac=1, replace=True)\n",
    "            else:\n",
    "                boot_sample = X_train.sample(frac=1, replace=True, random_state = self.random_state[i])\n",
    "\n",
    "            self.samples.append(boot_sample.index.tolist())\n",
    "    \n",
    "    # Build model\n",
    "    def __build_models(self, X_train, y_train):\n",
    "        \n",
    "        # Looping till every sample is used.\n",
    "        for i in range(len(self.samples)):\n",
    "            train_predictor = X_train.loc[self.samples[i],]\n",
    "            train_response = y_train.loc[self.samples[i],]\n",
    "\n",
    "            # Fitting decision tree using bootstrapped samples.\n",
    "            model = LinearRegression()\n",
    "            model.fit(train_predictor, train_response)\n",
    "            self.model_list.append(model)\n",
    "    \n",
    "    # Building model\n",
    "    def bagging_build(self, X_train, y_train):\n",
    "        X_train = X_train.reset_index()\n",
    "        y_train = y_train.reset_index()\n",
    "        X_train = X_train.drop('index', axis = 1)\n",
    "        y_train = y_train.drop('index', axis = 1)\n",
    "        self.__create_boot_samples(X_train)\n",
    "        self.__build_models(X_train, y_train)\n",
    "\n",
    "    # Predict\n",
    "    def bagging_predict(self, X_test):\n",
    "        prediction_list = dict()\n",
    "        for i in range(len(self.model_list)):\n",
    "            predictions = self.model_list[i].predict(X_test)\n",
    "            model_name = 'model_'+str(i+1)\n",
    "            prediction_list[model_name] = list(predictions)\n",
    "        self.prediction_df = pd.DataFrame(prediction_list)\n",
    "\n",
    "        final_prediction = list()\n",
    "        for i in range(self.prediction_df.shape[0]):\n",
    "            final_prediction.append(np.mean(self.prediction_df.iloc[i, :]))\n",
    "        return final_prediction"
   ]
  },
  {
   "cell_type": "markdown",
   "metadata": {},
   "source": [
    "# Bagged Simple Linear Regression Model"
   ]
  },
  {
   "cell_type": "markdown",
   "metadata": {},
   "source": [
    "### Using only 1 predictor to make it easier to visualize on a plot"
   ]
  },
  {
   "cell_type": "code",
   "execution_count": 7,
   "metadata": {},
   "outputs": [],
   "source": [
    "X = kc_house['sqft_living']\n",
    "y = kc_house['price']"
   ]
  },
  {
   "cell_type": "code",
   "execution_count": 8,
   "metadata": {},
   "outputs": [],
   "source": [
    "X_train, X_test, y_train, y_test = train_test_split(X, y, test_size = 0.3, random_state = 100)"
   ]
  },
  {
   "cell_type": "code",
   "execution_count": 9,
   "metadata": {},
   "outputs": [],
   "source": [
    "bagged_regressor = BaggedRegression(n_estimators=200)"
   ]
  },
  {
   "cell_type": "code",
   "execution_count": 10,
   "metadata": {},
   "outputs": [],
   "source": [
    "bagged_regressor.bagging_build(X_train, y_train)"
   ]
  },
  {
   "cell_type": "code",
   "execution_count": 11,
   "metadata": {},
   "outputs": [],
   "source": [
    "X_train = np.array(X_train).reshape((-1,1))\n",
    "X_test = np.array(X_test).reshape((-1,1))\n",
    "y_train = np.array(y_train).reshape((-1,1))\n",
    "y_test = np.array(y_test).reshape((-1,1))"
   ]
  },
  {
   "cell_type": "code",
   "execution_count": 12,
   "metadata": {},
   "outputs": [],
   "source": [
    "bagged_predictions = bagged_regressor.bagging_predict(X_test)"
   ]
  },
  {
   "cell_type": "code",
   "execution_count": 13,
   "metadata": {},
   "outputs": [],
   "source": [
    "coef1 = list()\n",
    "intercept = list()\n",
    "for i in range(len(bagged_regressor.model_list)):\n",
    "    coef1.append(bagged_regressor.model_list[i].coef_.tolist()[0][0])\n",
    "    intercept.append(bagged_regressor.model_list[i].intercept_.tolist()[0])"
   ]
  },
  {
   "cell_type": "code",
   "execution_count": 14,
   "metadata": {
    "tags": []
   },
   "outputs": [
    {
     "name": "stdout",
     "output_type": "stream",
     "text": [
      "279.86214055595275\n",
      "-40538.339523021335\n"
     ]
    }
   ],
   "source": [
    "print(np.mean(coef1))\n",
    "print(np.mean(intercept))"
   ]
  },
  {
   "cell_type": "markdown",
   "metadata": {},
   "source": [
    "# Simple Linear Regression Model"
   ]
  },
  {
   "cell_type": "code",
   "execution_count": 15,
   "metadata": {},
   "outputs": [],
   "source": [
    "direct_model = LinearRegression().fit(X_train, y_train)"
   ]
  },
  {
   "cell_type": "code",
   "execution_count": 16,
   "metadata": {},
   "outputs": [],
   "source": [
    "direct_train_pred = direct_model.predict(X_train)"
   ]
  },
  {
   "cell_type": "code",
   "execution_count": 17,
   "metadata": {},
   "outputs": [],
   "source": [
    "direct_train_df = pd.DataFrame({'X': X_train.tolist(), 'Prediction': direct_train_pred.tolist()})\n",
    "direct_train_df.X = direct_train_df.X.apply(lambda x: x[0])\n",
    "direct_train_df.Prediction = direct_train_df.Prediction.apply(lambda x: x[0])"
   ]
  },
  {
   "cell_type": "code",
   "execution_count": 18,
   "metadata": {},
   "outputs": [],
   "source": [
    "ls_train_df = pd.DataFrame({'X': X_train.tolist(), 'Y': y_train.tolist()})\n",
    "ls_train_df.X = ls_train_df.X.apply(lambda x: x[0])\n",
    "ls_train_df.Y = ls_train_df.Y.apply(lambda x: x[0])"
   ]
  },
  {
   "cell_type": "code",
   "execution_count": 96,
   "metadata": {},
   "outputs": [
    {
     "name": "stdout",
     "output_type": "stream",
     "text": [
      "Populating the interactive namespace from numpy and matplotlib\n"
     ]
    },
    {
     "data": {
      "image/png": "[encoded data removed]",
      "text/plain": [
       "<Figure size 720x360 with 1 Axes>"
      ]
     },
     "metadata": {
      "needs_background": "light"
     },
     "output_type": "display_data"
    }
   ],
   "source": [
    "%pylab inline\n",
    "pylab.rcParams['figure.figsize'] = (10, 5)\n",
    "\n",
    "plt.scatter('X', 'Y', data=ls_train_df, alpha = 0.2)\n",
    "plt.plot('X','Prediction', data=direct_train_df, linestyle = '-', color = 'red')\n",
    "plt.xlabel('sqft_living')\n",
    "plt.ylabel('Price')\n",
    "plt.title('Linear Regression Line')\n",
    "plt.show()"
   ]
  },
  {
   "cell_type": "code",
   "execution_count": 20,
   "metadata": {},
   "outputs": [],
   "source": [
    "direct_predictions = direct_model.predict(X_test)"
   ]
  },
  {
   "cell_type": "code",
   "execution_count": 21,
   "metadata": {
    "tags": []
   },
   "outputs": [
    {
     "name": "stdout",
     "output_type": "stream",
     "text": [
      "[[279.73039149]]\n",
      "[-40514.31944706]\n"
     ]
    }
   ],
   "source": [
    "print(direct_model.coef_)\n",
    "print(direct_model.intercept_)"
   ]
  },
  {
   "cell_type": "code",
   "execution_count": 30,
   "metadata": {},
   "outputs": [
    {
     "name": "stdout",
     "output_type": "stream",
     "text": [
      "RMSE for Simple Linear Regression: 259039.12\n",
      "--------------------------------------------------\n",
      "RMSE for Bagged Simple Linear Regression: 259041.882\n",
      "--------------------------------------------------\n",
      "Difference in RMSE: 2.762\n"
     ]
    }
   ],
   "source": [
    "print('RMSE for Simple Linear Regression: {}'.format(round(np.sqrt(mean_squared_error(y_test, direct_predictions)), 3)))\n",
    "print('-' * 50)\n",
    "print('RMSE for Bagged Simple Linear Regression: {}'.format(round(np.sqrt(mean_squared_error(y_test, bagged_predictions)), 3)))\n",
    "print('-' * 50)\n",
    "print('Difference in RMSE: {}'.format(round(round(np.sqrt(mean_squared_error(y_test, bagged_predictions)), 3) - round(np.sqrt(mean_squared_error(y_test, direct_predictions)), 3), 3)))"
   ]
  },
  {
   "cell_type": "markdown",
   "metadata": {},
   "source": [
    "## Checking how different bagged predictions are from direct predictions"
   ]
  },
  {
   "cell_type": "code",
   "execution_count": 31,
   "metadata": {
    "tags": []
   },
   "outputs": [
    {
     "name": "stdout",
     "output_type": "stream",
     "text": [
      "RMSE: 279.1460344427417\n"
     ]
    }
   ],
   "source": [
    "print('RMSE: '+ str(mean_squared_error(direct_predictions, bagged_predictions) ** 0.5))"
   ]
  },
  {
   "cell_type": "code",
   "execution_count": 32,
   "metadata": {
    "tags": []
   },
   "outputs": [
    {
     "name": "stdout",
     "output_type": "stream",
     "text": [
      "MAPE: 0.045971989531860664\n"
     ]
    }
   ],
   "source": [
    "print('MAPE: '+ str(np.mean(np.abs((direct_predictions - bagged_predictions) / direct_predictions)) * 100))"
   ]
  },
  {
   "cell_type": "code",
   "execution_count": 33,
   "metadata": {},
   "outputs": [],
   "source": [
    "import matplotlib.pyplot as plt"
   ]
  },
  {
   "cell_type": "markdown",
   "metadata": {},
   "source": [
    "## Predictions from individual models created while bagging"
   ]
  },
  {
   "cell_type": "code",
   "execution_count": 78,
   "metadata": {},
   "outputs": [],
   "source": [
    "points = dict()\n",
    "for i in range(len(bagged_regressor.model_list)):\n",
    "    proper_list = list()\n",
    "    pred_list = bagged_regressor.model_list[i].predict(X_test).tolist()\n",
    "    for j in pred_list:\n",
    "        proper_list.append(j[0])\n",
    "    points['model_'+str(i)] = proper_list"
   ]
  },
  {
   "cell_type": "code",
   "execution_count": 79,
   "metadata": {},
   "outputs": [],
   "source": [
    "model_points = pd.DataFrame(points)"
   ]
  },
  {
   "cell_type": "markdown",
   "metadata": {},
   "source": [
    "## Output using mean of coefficient and intercept of each model"
   ]
  },
  {
   "cell_type": "code",
   "execution_count": 80,
   "metadata": {},
   "outputs": [],
   "source": [
    "def mean_equation(X_train):\n",
    "    mean_pred = list()\n",
    "    for i in X_train:\n",
    "        calc_value = np.mean(intercept) + (np.mean(coef1) * float(i))\n",
    "        mean_pred.append(calc_value)\n",
    "    return mean_pred"
   ]
  },
  {
   "cell_type": "code",
   "execution_count": 81,
   "metadata": {},
   "outputs": [],
   "source": [
    "mean_predictions = mean_equation(X_test)"
   ]
  },
  {
   "cell_type": "code",
   "execution_count": 82,
   "metadata": {},
   "outputs": [],
   "source": [
    "model_points['Mean_Regression_Prediction'] = mean_predictions"
   ]
  },
  {
   "cell_type": "code",
   "execution_count": 83,
   "metadata": {},
   "outputs": [],
   "source": [
    "model_points['Bagged_Predictions'] = bagged_predictions"
   ]
  },
  {
   "cell_type": "code",
   "execution_count": 84,
   "metadata": {},
   "outputs": [],
   "source": [
    "model_points['Direct_Predictions'] = direct_predictions.tolist()"
   ]
  },
  {
   "cell_type": "code",
   "execution_count": 85,
   "metadata": {},
   "outputs": [],
   "source": [
    "model_points['X'] = X_test.tolist()"
   ]
  },
  {
   "cell_type": "code",
   "execution_count": 86,
   "metadata": {},
   "outputs": [],
   "source": [
    "model_points = model_points.sort_values('X')"
   ]
  },
  {
   "cell_type": "code",
   "execution_count": 87,
   "metadata": {},
   "outputs": [
    {
     "data": {
      "text/plain": [
       "(6484, 204)"
      ]
     },
     "execution_count": 87,
     "metadata": {},
     "output_type": "execute_result"
    }
   ],
   "source": [
    "model_points.shape"
   ]
  },
  {
   "cell_type": "code",
   "execution_count": 89,
   "metadata": {},
   "outputs": [],
   "source": [
    "model_points = model_points.iloc[[0,1,2,3,4,6479,6480,6481,6482,6483],]"
   ]
  },
  {
   "cell_type": "code",
   "execution_count": 90,
   "metadata": {},
   "outputs": [],
   "source": [
    "model_points.Direct_Predictions = model_points.Direct_Predictions.apply(lambda x: x[0])\n",
    "model_points.X = model_points.X.apply(lambda x: x[0])\n",
    "model_points.Bagged_Predictions = model_points.Bagged_Predictions.apply(lambda x: float(x))"
   ]
  },
  {
   "cell_type": "code",
   "execution_count": 99,
   "metadata": {},
   "outputs": [
    {
     "data": {
      "text/html": [
       "<div>\n",
       "<style scoped>\n",
       "    .dataframe tbody tr th:only-of-type {\n",
       "        vertical-align: middle;\n",
       "    }\n",
       "\n",
       "    .dataframe tbody tr th {\n",
       "        vertical-align: top;\n",
       "    }\n",
       "\n",
       "    .dataframe thead th {\n",
       "        text-align: right;\n",
       "    }\n",
       "</style>\n",
       "<table border=\"1\" class=\"dataframe\">\n",
       "  <thead>\n",
       "    <tr style=\"text-align: right;\">\n",
       "      <th></th>\n",
       "      <th>Mean_Regression_Prediction</th>\n",
       "      <th>Bagged_Predictions</th>\n",
       "    </tr>\n",
       "  </thead>\n",
       "  <tbody>\n",
       "    <tr>\n",
       "      <th>1782</th>\n",
       "      <td>65809.273888</td>\n",
       "      <td>65809.273888</td>\n",
       "    </tr>\n",
       "    <tr>\n",
       "      <th>2817</th>\n",
       "      <td>88198.245133</td>\n",
       "      <td>88198.245133</td>\n",
       "    </tr>\n",
       "    <tr>\n",
       "      <th>5659</th>\n",
       "      <td>90996.866538</td>\n",
       "      <td>90996.866538</td>\n",
       "    </tr>\n",
       "    <tr>\n",
       "      <th>2120</th>\n",
       "      <td>104989.973566</td>\n",
       "      <td>104989.973566</td>\n",
       "    </tr>\n",
       "    <tr>\n",
       "      <th>2073</th>\n",
       "      <td>104989.973566</td>\n",
       "      <td>104989.973566</td>\n",
       "    </tr>\n",
       "  </tbody>\n",
       "</table>\n",
       "</div>"
      ],
      "text/plain": [
       "      Mean_Regression_Prediction  Bagged_Predictions\n",
       "1782                65809.273888        65809.273888\n",
       "2817                88198.245133        88198.245133\n",
       "5659                90996.866538        90996.866538\n",
       "2120               104989.973566       104989.973566\n",
       "2073               104989.973566       104989.973566"
      ]
     },
     "execution_count": 99,
     "metadata": {},
     "output_type": "execute_result"
    }
   ],
   "source": [
    "model_points[['Mean_Regression_Prediction', 'Bagged_Predictions']].head()"
   ]
  },
  {
   "cell_type": "markdown",
   "metadata": {},
   "source": [
    "## Mean_Predictions and Bagged_Predictions are exactly same! So our prediction after bagging would have been same if we had built a model with taking the mean of coeffs"
   ]
  },
  {
   "cell_type": "code",
   "execution_count": 91,
   "metadata": {},
   "outputs": [
    {
     "data": {
      "text/html": [
       "<div>\n",
       "<style scoped>\n",
       "    .dataframe tbody tr th:only-of-type {\n",
       "        vertical-align: middle;\n",
       "    }\n",
       "\n",
       "    .dataframe tbody tr th {\n",
       "        vertical-align: top;\n",
       "    }\n",
       "\n",
       "    .dataframe thead th {\n",
       "        text-align: right;\n",
       "    }\n",
       "</style>\n",
       "<table border=\"1\" class=\"dataframe\">\n",
       "  <thead>\n",
       "    <tr style=\"text-align: right;\">\n",
       "      <th></th>\n",
       "      <th>model_0</th>\n",
       "      <th>model_1</th>\n",
       "      <th>model_2</th>\n",
       "      <th>model_3</th>\n",
       "      <th>model_4</th>\n",
       "      <th>model_5</th>\n",
       "      <th>model_6</th>\n",
       "      <th>model_7</th>\n",
       "      <th>model_8</th>\n",
       "      <th>model_9</th>\n",
       "      <th>...</th>\n",
       "      <th>model_194</th>\n",
       "      <th>model_195</th>\n",
       "      <th>model_196</th>\n",
       "      <th>model_197</th>\n",
       "      <th>model_198</th>\n",
       "      <th>model_199</th>\n",
       "      <th>Mean_Regression_Prediction</th>\n",
       "      <th>Bagged_Predictions</th>\n",
       "      <th>Direct_Predictions</th>\n",
       "      <th>X</th>\n",
       "    </tr>\n",
       "  </thead>\n",
       "  <tbody>\n",
       "    <tr>\n",
       "      <th>1782</th>\n",
       "      <td>4.666905e+04</td>\n",
       "      <td>7.498677e+04</td>\n",
       "      <td>6.506325e+04</td>\n",
       "      <td>7.274598e+04</td>\n",
       "      <td>6.657626e+04</td>\n",
       "      <td>5.873966e+04</td>\n",
       "      <td>6.590749e+04</td>\n",
       "      <td>5.534044e+04</td>\n",
       "      <td>6.150159e+04</td>\n",
       "      <td>5.461808e+04</td>\n",
       "      <td>...</td>\n",
       "      <td>6.261591e+04</td>\n",
       "      <td>7.239238e+04</td>\n",
       "      <td>5.335226e+04</td>\n",
       "      <td>7.114512e+04</td>\n",
       "      <td>5.679287e+04</td>\n",
       "      <td>6.561658e+04</td>\n",
       "      <td>6.580927e+04</td>\n",
       "      <td>6.580927e+04</td>\n",
       "      <td>6.578323e+04</td>\n",
       "      <td>380</td>\n",
       "    </tr>\n",
       "    <tr>\n",
       "      <th>2817</th>\n",
       "      <td>7.001519e+04</td>\n",
       "      <td>9.678639e+04</td>\n",
       "      <td>8.749553e+04</td>\n",
       "      <td>9.486779e+04</td>\n",
       "      <td>8.879497e+04</td>\n",
       "      <td>8.164903e+04</td>\n",
       "      <td>8.840663e+04</td>\n",
       "      <td>7.811413e+04</td>\n",
       "      <td>8.402476e+04</td>\n",
       "      <td>7.766274e+04</td>\n",
       "      <td>...</td>\n",
       "      <td>8.523321e+04</td>\n",
       "      <td>9.455009e+04</td>\n",
       "      <td>7.643881e+04</td>\n",
       "      <td>9.341633e+04</td>\n",
       "      <td>7.969840e+04</td>\n",
       "      <td>8.799036e+04</td>\n",
       "      <td>8.819825e+04</td>\n",
       "      <td>8.819825e+04</td>\n",
       "      <td>8.816166e+04</td>\n",
       "      <td>460</td>\n",
       "    </tr>\n",
       "    <tr>\n",
       "      <th>5659</th>\n",
       "      <td>7.293345e+04</td>\n",
       "      <td>9.951134e+04</td>\n",
       "      <td>9.029956e+04</td>\n",
       "      <td>9.763302e+04</td>\n",
       "      <td>9.157230e+04</td>\n",
       "      <td>8.451270e+04</td>\n",
       "      <td>9.121902e+04</td>\n",
       "      <td>8.096084e+04</td>\n",
       "      <td>8.684016e+04</td>\n",
       "      <td>8.054332e+04</td>\n",
       "      <td>...</td>\n",
       "      <td>8.806038e+04</td>\n",
       "      <td>9.731980e+04</td>\n",
       "      <td>7.932463e+04</td>\n",
       "      <td>9.620023e+04</td>\n",
       "      <td>8.256159e+04</td>\n",
       "      <td>9.078708e+04</td>\n",
       "      <td>9.099687e+04</td>\n",
       "      <td>9.099687e+04</td>\n",
       "      <td>9.095896e+04</td>\n",
       "      <td>470</td>\n",
       "    </tr>\n",
       "    <tr>\n",
       "      <th>2120</th>\n",
       "      <td>8.752479e+04</td>\n",
       "      <td>1.131361e+05</td>\n",
       "      <td>1.043197e+05</td>\n",
       "      <td>1.114592e+05</td>\n",
       "      <td>1.054590e+05</td>\n",
       "      <td>9.883106e+04</td>\n",
       "      <td>1.052810e+05</td>\n",
       "      <td>9.519439e+04</td>\n",
       "      <td>1.009171e+05</td>\n",
       "      <td>9.494623e+04</td>\n",
       "      <td>...</td>\n",
       "      <td>1.021962e+05</td>\n",
       "      <td>1.111684e+05</td>\n",
       "      <td>9.375373e+04</td>\n",
       "      <td>1.101197e+05</td>\n",
       "      <td>9.687754e+04</td>\n",
       "      <td>1.047707e+05</td>\n",
       "      <td>1.049900e+05</td>\n",
       "      <td>1.049900e+05</td>\n",
       "      <td>1.049455e+05</td>\n",
       "      <td>520</td>\n",
       "    </tr>\n",
       "    <tr>\n",
       "      <th>2073</th>\n",
       "      <td>8.752479e+04</td>\n",
       "      <td>1.131361e+05</td>\n",
       "      <td>1.043197e+05</td>\n",
       "      <td>1.114592e+05</td>\n",
       "      <td>1.054590e+05</td>\n",
       "      <td>9.883106e+04</td>\n",
       "      <td>1.052810e+05</td>\n",
       "      <td>9.519439e+04</td>\n",
       "      <td>1.009171e+05</td>\n",
       "      <td>9.494623e+04</td>\n",
       "      <td>...</td>\n",
       "      <td>1.021962e+05</td>\n",
       "      <td>1.111684e+05</td>\n",
       "      <td>9.375373e+04</td>\n",
       "      <td>1.101197e+05</td>\n",
       "      <td>9.687754e+04</td>\n",
       "      <td>1.047707e+05</td>\n",
       "      <td>1.049900e+05</td>\n",
       "      <td>1.049900e+05</td>\n",
       "      <td>1.049455e+05</td>\n",
       "      <td>520</td>\n",
       "    </tr>\n",
       "    <tr>\n",
       "      <th>4393</th>\n",
       "      <td>2.185759e+06</td>\n",
       "      <td>2.072377e+06</td>\n",
       "      <td>2.120421e+06</td>\n",
       "      <td>2.099657e+06</td>\n",
       "      <td>2.102365e+06</td>\n",
       "      <td>2.157811e+06</td>\n",
       "      <td>2.127391e+06</td>\n",
       "      <td>2.141979e+06</td>\n",
       "      <td>2.125187e+06</td>\n",
       "      <td>2.166085e+06</td>\n",
       "      <td>...</td>\n",
       "      <td>2.134927e+06</td>\n",
       "      <td>2.102592e+06</td>\n",
       "      <td>2.168658e+06</td>\n",
       "      <td>2.111745e+06</td>\n",
       "      <td>2.155512e+06</td>\n",
       "      <td>2.115613e+06</td>\n",
       "      <td>2.117199e+06</td>\n",
       "      <td>2.117199e+06</td>\n",
       "      <td>2.116207e+06</td>\n",
       "      <td>7710</td>\n",
       "    </tr>\n",
       "    <tr>\n",
       "      <th>2666</th>\n",
       "      <td>2.276225e+06</td>\n",
       "      <td>2.156851e+06</td>\n",
       "      <td>2.207346e+06</td>\n",
       "      <td>2.185379e+06</td>\n",
       "      <td>2.188462e+06</td>\n",
       "      <td>2.246585e+06</td>\n",
       "      <td>2.214575e+06</td>\n",
       "      <td>2.230227e+06</td>\n",
       "      <td>2.212465e+06</td>\n",
       "      <td>2.255383e+06</td>\n",
       "      <td>...</td>\n",
       "      <td>2.222569e+06</td>\n",
       "      <td>2.188453e+06</td>\n",
       "      <td>2.258118e+06</td>\n",
       "      <td>2.198046e+06</td>\n",
       "      <td>2.244271e+06</td>\n",
       "      <td>2.202312e+06</td>\n",
       "      <td>2.203956e+06</td>\n",
       "      <td>2.203956e+06</td>\n",
       "      <td>2.202923e+06</td>\n",
       "      <td>8020</td>\n",
       "    </tr>\n",
       "    <tr>\n",
       "      <th>4293</th>\n",
       "      <td>2.748984e+06</td>\n",
       "      <td>2.598293e+06</td>\n",
       "      <td>2.661599e+06</td>\n",
       "      <td>2.633346e+06</td>\n",
       "      <td>2.638391e+06</td>\n",
       "      <td>2.710499e+06</td>\n",
       "      <td>2.670182e+06</td>\n",
       "      <td>2.691394e+06</td>\n",
       "      <td>2.668559e+06</td>\n",
       "      <td>2.722037e+06</td>\n",
       "      <td>...</td>\n",
       "      <td>2.680569e+06</td>\n",
       "      <td>2.637147e+06</td>\n",
       "      <td>2.725621e+06</td>\n",
       "      <td>2.649038e+06</td>\n",
       "      <td>2.708108e+06</td>\n",
       "      <td>2.655381e+06</td>\n",
       "      <td>2.657333e+06</td>\n",
       "      <td>2.657333e+06</td>\n",
       "      <td>2.656087e+06</td>\n",
       "      <td>9640</td>\n",
       "    </tr>\n",
       "    <tr>\n",
       "      <th>4991</th>\n",
       "      <td>2.821941e+06</td>\n",
       "      <td>2.666417e+06</td>\n",
       "      <td>2.731700e+06</td>\n",
       "      <td>2.702477e+06</td>\n",
       "      <td>2.707825e+06</td>\n",
       "      <td>2.782091e+06</td>\n",
       "      <td>2.740492e+06</td>\n",
       "      <td>2.762562e+06</td>\n",
       "      <td>2.738944e+06</td>\n",
       "      <td>2.794052e+06</td>\n",
       "      <td>...</td>\n",
       "      <td>2.751248e+06</td>\n",
       "      <td>2.706390e+06</td>\n",
       "      <td>2.797767e+06</td>\n",
       "      <td>2.718636e+06</td>\n",
       "      <td>2.779687e+06</td>\n",
       "      <td>2.725299e+06</td>\n",
       "      <td>2.727298e+06</td>\n",
       "      <td>2.727298e+06</td>\n",
       "      <td>2.726019e+06</td>\n",
       "      <td>9890</td>\n",
       "    </tr>\n",
       "    <tr>\n",
       "      <th>429</th>\n",
       "      <td>2.865715e+06</td>\n",
       "      <td>2.707291e+06</td>\n",
       "      <td>2.773761e+06</td>\n",
       "      <td>2.743955e+06</td>\n",
       "      <td>2.749485e+06</td>\n",
       "      <td>2.825046e+06</td>\n",
       "      <td>2.782678e+06</td>\n",
       "      <td>2.805263e+06</td>\n",
       "      <td>2.781175e+06</td>\n",
       "      <td>2.837261e+06</td>\n",
       "      <td>...</td>\n",
       "      <td>2.793656e+06</td>\n",
       "      <td>2.747935e+06</td>\n",
       "      <td>2.841054e+06</td>\n",
       "      <td>2.760394e+06</td>\n",
       "      <td>2.822635e+06</td>\n",
       "      <td>2.767250e+06</td>\n",
       "      <td>2.769278e+06</td>\n",
       "      <td>2.769278e+06</td>\n",
       "      <td>2.767979e+06</td>\n",
       "      <td>10040</td>\n",
       "    </tr>\n",
       "  </tbody>\n",
       "</table>\n",
       "<p>10 rows × 204 columns</p>\n",
       "</div>"
      ],
      "text/plain": [
       "           model_0       model_1       model_2       model_3       model_4  \\\n",
       "1782  4.666905e+04  7.498677e+04  6.506325e+04  7.274598e+04  6.657626e+04   \n",
       "2817  7.001519e+04  9.678639e+04  8.749553e+04  9.486779e+04  8.879497e+04   \n",
       "5659  7.293345e+04  9.951134e+04  9.029956e+04  9.763302e+04  9.157230e+04   \n",
       "2120  8.752479e+04  1.131361e+05  1.043197e+05  1.114592e+05  1.054590e+05   \n",
       "2073  8.752479e+04  1.131361e+05  1.043197e+05  1.114592e+05  1.054590e+05   \n",
       "4393  2.185759e+06  2.072377e+06  2.120421e+06  2.099657e+06  2.102365e+06   \n",
       "2666  2.276225e+06  2.156851e+06  2.207346e+06  2.185379e+06  2.188462e+06   \n",
       "4293  2.748984e+06  2.598293e+06  2.661599e+06  2.633346e+06  2.638391e+06   \n",
       "4991  2.821941e+06  2.666417e+06  2.731700e+06  2.702477e+06  2.707825e+06   \n",
       "429   2.865715e+06  2.707291e+06  2.773761e+06  2.743955e+06  2.749485e+06   \n",
       "\n",
       "           model_5       model_6       model_7       model_8       model_9  \\\n",
       "1782  5.873966e+04  6.590749e+04  5.534044e+04  6.150159e+04  5.461808e+04   \n",
       "2817  8.164903e+04  8.840663e+04  7.811413e+04  8.402476e+04  7.766274e+04   \n",
       "5659  8.451270e+04  9.121902e+04  8.096084e+04  8.684016e+04  8.054332e+04   \n",
       "2120  9.883106e+04  1.052810e+05  9.519439e+04  1.009171e+05  9.494623e+04   \n",
       "2073  9.883106e+04  1.052810e+05  9.519439e+04  1.009171e+05  9.494623e+04   \n",
       "4393  2.157811e+06  2.127391e+06  2.141979e+06  2.125187e+06  2.166085e+06   \n",
       "2666  2.246585e+06  2.214575e+06  2.230227e+06  2.212465e+06  2.255383e+06   \n",
       "4293  2.710499e+06  2.670182e+06  2.691394e+06  2.668559e+06  2.722037e+06   \n",
       "4991  2.782091e+06  2.740492e+06  2.762562e+06  2.738944e+06  2.794052e+06   \n",
       "429   2.825046e+06  2.782678e+06  2.805263e+06  2.781175e+06  2.837261e+06   \n",
       "\n",
       "      ...     model_194     model_195     model_196     model_197  \\\n",
       "1782  ...  6.261591e+04  7.239238e+04  5.335226e+04  7.114512e+04   \n",
       "2817  ...  8.523321e+04  9.455009e+04  7.643881e+04  9.341633e+04   \n",
       "5659  ...  8.806038e+04  9.731980e+04  7.932463e+04  9.620023e+04   \n",
       "2120  ...  1.021962e+05  1.111684e+05  9.375373e+04  1.101197e+05   \n",
       "2073  ...  1.021962e+05  1.111684e+05  9.375373e+04  1.101197e+05   \n",
       "4393  ...  2.134927e+06  2.102592e+06  2.168658e+06  2.111745e+06   \n",
       "2666  ...  2.222569e+06  2.188453e+06  2.258118e+06  2.198046e+06   \n",
       "4293  ...  2.680569e+06  2.637147e+06  2.725621e+06  2.649038e+06   \n",
       "4991  ...  2.751248e+06  2.706390e+06  2.797767e+06  2.718636e+06   \n",
       "429   ...  2.793656e+06  2.747935e+06  2.841054e+06  2.760394e+06   \n",
       "\n",
       "         model_198     model_199  Mean_Regression_Prediction  \\\n",
       "1782  5.679287e+04  6.561658e+04                6.580927e+04   \n",
       "2817  7.969840e+04  8.799036e+04                8.819825e+04   \n",
       "5659  8.256159e+04  9.078708e+04                9.099687e+04   \n",
       "2120  9.687754e+04  1.047707e+05                1.049900e+05   \n",
       "2073  9.687754e+04  1.047707e+05                1.049900e+05   \n",
       "4393  2.155512e+06  2.115613e+06                2.117199e+06   \n",
       "2666  2.244271e+06  2.202312e+06                2.203956e+06   \n",
       "4293  2.708108e+06  2.655381e+06                2.657333e+06   \n",
       "4991  2.779687e+06  2.725299e+06                2.727298e+06   \n",
       "429   2.822635e+06  2.767250e+06                2.769278e+06   \n",
       "\n",
       "      Bagged_Predictions  Direct_Predictions      X  \n",
       "1782        6.580927e+04        6.578323e+04    380  \n",
       "2817        8.819825e+04        8.816166e+04    460  \n",
       "5659        9.099687e+04        9.095896e+04    470  \n",
       "2120        1.049900e+05        1.049455e+05    520  \n",
       "2073        1.049900e+05        1.049455e+05    520  \n",
       "4393        2.117199e+06        2.116207e+06   7710  \n",
       "2666        2.203956e+06        2.202923e+06   8020  \n",
       "4293        2.657333e+06        2.656087e+06   9640  \n",
       "4991        2.727298e+06        2.726019e+06   9890  \n",
       "429         2.769278e+06        2.767979e+06  10040  \n",
       "\n",
       "[10 rows x 204 columns]"
      ]
     },
     "execution_count": 91,
     "metadata": {},
     "output_type": "execute_result"
    }
   ],
   "source": [
    "model_points"
   ]
  },
  {
   "cell_type": "code",
   "execution_count": 105,
   "metadata": {},
   "outputs": [
    {
     "data": {
      "image/png": "[encoded data removed]",
      "text/plain": [
       "<Figure size 720x360 with 1 Axes>"
      ]
     },
     "metadata": {
      "needs_background": "light"
     },
     "output_type": "display_data"
    }
   ],
   "source": [
    "limit = model_points.shape[1]-4\n",
    "\n",
    "for i in range(0, limit, 10):\n",
    "    plt.plot('X', 'model_'+str(i), data=model_points, color = 'grey', linestyle = '-.')\n",
    "p1, = plt.plot('X', 'Bagged_Predictions', data=model_points, color = 'blue')\n",
    "p2, = plt.plot('X', 'Mean_Regression_Prediction', data=model_points, color = 'red', linestyle = '-.')\n",
    "plt.xlabel('SQFT Living')\n",
    "plt.ylabel('Price in Dollars(x10^6)')\n",
    "plt.title('SQFT Living vs Price for Every Model')\n",
    "plt.legend(handles = [p1, p2], bbox_to_anchor=(1.05, 1), loc='upper left')\n",
    "plt.show()"
   ]
  }
 ],
 "metadata": {
  "kernelspec": {
   "display_name": "Python 3",
   "language": "python",
   "name": "python3"
  },
  "language_info": {
   "codemirror_mode": {
    "name": "ipython",
    "version": 3
   },
   "file_extension": ".py",
   "mimetype": "text/x-python",
   "name": "python",
   "nbconvert_exporter": "python",
   "pygments_lexer": "ipython3",
   "version": "3.7.7"
  }
 },
 "nbformat": 4,
 "nbformat_minor": 4
}
